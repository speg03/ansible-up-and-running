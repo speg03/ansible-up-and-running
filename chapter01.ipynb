{
 "cells": [
  {
   "cell_type": "markdown",
   "metadata": {},
   "source": [
    "# 1章 イントロダクション"
   ]
  },
  {
   "cell_type": "markdown",
   "metadata": {},
   "source": [
    "## 1.1 バージョンについて\n",
    "\n",
    "Ansibleのバージョン\n",
    "\n",
    "> 原書は1.8.4で書かれていますが、翻訳時に2.0.0.4で動作検証しています。"
   ]
  },
  {
   "cell_type": "markdown",
   "metadata": {},
   "source": [
    "## 1.2 Ansibleが役立つこと\n",
    "\n",
    "Ansibleは、デプロイメントにも、設定管理にも使える。\n",
    "\n",
    "デプロイメントのオーケストレーションとして、複数サーバーに対して処理を行えるようにできている。\n",
    "\n",
    "サーバーのプロビジョニング（作成?）もサポートしている。"
   ]
  },
  {
   "cell_type": "markdown",
   "metadata": {},
   "source": [
    "## 1.3 Ansibleの動作\n",
    "\n",
    "AnsibleのスクリプトはYAML形式でplaybookと呼ぶ。順序づけされたタスクのリストを記述する。\n",
    "\n",
    "playbookの実行はansible-playbookコマンド\n",
    "\n",
    "```\n",
    "$ ansible-playbook webservers.yml\n",
    "```\n",
    "\n",
    "Ansibleは各サーバーにSSH接続を行って処理を実行する。"
   ]
  },
  {
   "cell_type": "markdown",
   "metadata": {},
   "source": [
    "## 1.4 Ansibleがすばらしい理由"
   ]
  },
  {
   "cell_type": "markdown",
   "metadata": {},
   "source": [
    "## 1.4.1 読みやすい構文"
   ]
  },
  {
   "cell_type": "markdown",
   "metadata": {},
   "source": [
    "## 1.4.2 リモートホストへのインストールが不要"
   ]
  },
  {
   "cell_type": "markdown",
   "metadata": {},
   "source": [
    "## 1.4.3 プッシュベース\n",
    "\n",
    "* Ansibleはリモートホストにエージェント不要なプッシュベース。\n",
    "* Chef, Puppetはリモートホストにエージェントをインストールして使うプルベース。\n",
    "\n",
    "\n",
    "* プッシュベース\n",
    "  * メリット\n",
    "    * エージェントレス\n",
    "    * 実行タイミングを自分でコントロールしやすい\n",
    "  * デメリット\n",
    "    * キックする仕組みが必要\n",
    "\n",
    "\n",
    "* プルベース\n",
    "  * メリット\n",
    "    * 自律的なシステム（新しいサーバーが追加されたらすぐに対応できる）\n",
    "  * デメリット\n",
    "    * エージェントが必要\n",
    "\n",
    "\n",
    "Ansibleにもプルベースで実行できるansible-pullというツールがある。"
   ]
  },
  {
   "cell_type": "markdown",
   "metadata": {},
   "source": [
    "## 1.4.4 スケールダウン\n",
    "\n",
    "Ansibleは1台のノードを設定するためでも使える。playbookを1つ書くだけで実行できる。"
   ]
  },
  {
   "cell_type": "markdown",
   "metadata": {},
   "source": [
    "## 1.4.5 組み込みモジュール\n",
    "\n",
    "モジュールを使えば、パッケージのインストール、サービスの再起動、設定ファイルのコピーといったタスクを実行できます。\n",
    "\n",
    "Ansibleのモジュールは宣言的で冪等。\n",
    "\n",
    "収斂（しゅうれん）: 収束? 何度も実行する度に希望する状態へ近づけていくこと。  \n",
    "Ansibleは1度の実行で希望する状態にできるようになっているため、収斂という考え方には実際には当てはまらない。\n",
    "\n",
    "Ansibleの作者(Michael DeHaan)が収斂についてどのように考えているのか、以下を参照。\n",
    "\n",
    "OT: Idempotence, convergence, and other silly fancy words we use too often  \n",
    "https://groups.google.com/forum/#!msg/ansible-project/WpRblldA2PQ/lYDpFjBXDlsJ"
   ]
  },
  {
   "cell_type": "markdown",
   "metadata": {},
   "source": [
    "## 1.4.6 抽象化層の薄さ\n",
    "\n",
    "Ansibleはパッケージマネージャを抽象化していない。yumはyumモジュール、aptはaptモジュールを使う。これは新しい抽象概念を学ばなくてよくするため。\n",
    "\n",
    "playbookは異なるコンテキストで再利用されることを意図したものではない。汎用的なplaybookを再利用するよりも、その組織のためのplaybookを書くほうがうまくいく。"
   ]
  },
  {
   "cell_type": "markdown",
   "metadata": {},
   "source": [
    "## 1.5 Ansibleはシンプルすぎる?\n",
    "\n",
    "> Ansibleはシェルスクリプトよりもはるかに多くの機能を提供しています。\n",
    "\n",
    "> パフォーマンスの最適化のためにSSHマルチプレキシングを利用しており、世の中には数千ノードをAnsibleで管理している人々がいます。"
   ]
  },
  {
   "cell_type": "markdown",
   "metadata": {},
   "source": [
    "## 1.6 事前に必要な知識\n",
    "\n",
    "Linuxシステム管理の基本\n",
    "\n",
    "AnsibleはPythonでできているが、Pythonを知らなくてもAnsibleを使うことはできる。\n",
    "\n",
    "YAMLファイルフォーマットとJinja2テンプレート言語は知っているひつようがあるが、どちらも簡単。"
   ]
  },
  {
   "cell_type": "markdown",
   "metadata": {},
   "source": [
    "## 1.7 本書で取り上げないこと\n",
    "\n",
    "公式のAnsibleモジュール群の詳細。公式のドキュメントは充実している。"
   ]
  },
  {
   "cell_type": "markdown",
   "metadata": {},
   "source": [
    "## 1.8 Ansibleのインストール"
   ]
  },
  {
   "cell_type": "markdown",
   "metadata": {},
   "source": [
    "```\n",
    "$ brew install ansible\n",
    "```"
   ]
  },
  {
   "cell_type": "code",
   "execution_count": 1,
   "metadata": {
    "collapsed": false
   },
   "outputs": [
    {
     "name": "stdout",
     "output_type": "stream",
     "text": [
      "ansible 2.1.0.0\r\n",
      "  config file = \r\n",
      "  configured module search path = Default w/o overrides\r\n"
     ]
    }
   ],
   "source": [
    "ansible --version"
   ]
  },
  {
   "cell_type": "markdown",
   "metadata": {},
   "source": [
    "## 1.9 テスト用サーバーのセットアップ"
   ]
  },
  {
   "cell_type": "markdown",
   "metadata": {},
   "source": [
    "## 1.9.1 Vagrantを使ったテストサーバーのセットアップ"
   ]
  },
  {
   "cell_type": "code",
   "execution_count": 2,
   "metadata": {
    "collapsed": false
   },
   "outputs": [
    {
     "name": "stdout",
     "output_type": "stream",
     "text": [
      "\u001b[0mA `Vagrantfile` has been placed in this directory. You are now\r\n",
      "ready to `vagrant up` your first virtual environment! Please read\r\n",
      "the comments in the Vagrantfile as well as documentation on\r\n",
      "`vagrantup.com` for more information on using Vagrant.\u001b[0m\r\n"
     ]
    }
   ],
   "source": [
    "mkdir playbooks\n",
    "cd playbooks\n",
    "vagrant init ubuntu/trusty64"
   ]
  },
  {
   "cell_type": "markdown",
   "metadata": {},
   "source": [
    "```\n",
    "$ vagrant up\n",
    "$ vagrant ssh\n",
    "```"
   ]
  },
  {
   "cell_type": "code",
   "execution_count": 5,
   "metadata": {
    "collapsed": false
   },
   "outputs": [
    {
     "name": "stdout",
     "output_type": "stream",
     "text": [
      "Host default\r\n",
      "  HostName 127.0.0.1\r\n",
      "  User vagrant\r\n",
      "  Port 2222\r\n",
      "  UserKnownHostsFile /dev/null\r\n",
      "  StrictHostKeyChecking no\r\n",
      "  PasswordAuthentication no\r\n",
      "  IdentityFile /Users/speg03/.ghq/github.com/speg03/notebooks/ansible_up_and_running/playbooks/.vagrant/machines/default/virtualbox/private_key\r\n",
      "  IdentitiesOnly yes\r\n",
      "  LogLevel FATAL\r\n",
      "\r\n"
     ]
    }
   ],
   "source": [
    "vagrant ssh-config"
   ]
  },
  {
   "cell_type": "markdown",
   "metadata": {},
   "source": [
    "## 1.9.2 テストサーバーのことをAnsibleに知らせる"
   ]
  },
  {
   "cell_type": "code",
   "execution_count": 8,
   "metadata": {
    "collapsed": false
   },
   "outputs": [
    {
     "name": "stdout",
     "output_type": "stream",
     "text": [
      "testserver ansible_ssh_host=127.0.0.1 ansible_ssh_port=2222 ansible_ssh_user=vagrant ansible_ssh_private_key_file=.vagrant/machines/default/virtualbox/private_key"
     ]
    }
   ],
   "source": [
    "cat hosts"
   ]
  },
  {
   "cell_type": "markdown",
   "metadata": {},
   "source": [
    "サーバーへの接続確認は`ansible`コマンドを使う。アドホックな一度限りの処理に使われる。pingモジュールはSSHで接続できるかどうかを確認するだけ。"
   ]
  },
  {
   "cell_type": "code",
   "execution_count": 14,
   "metadata": {
    "collapsed": false
   },
   "outputs": [
    {
     "name": "stdout",
     "output_type": "stream",
     "text": [
      "\u001b[0;32mtestserver | SUCCESS => {\r\n",
      "    \"changed\": false, \r\n",
      "    \"ping\": \"pong\"\r\n",
      "}\u001b[0m\r\n"
     ]
    }
   ],
   "source": [
    "ansible testserver -i hosts -m ping"
   ]
  },
  {
   "cell_type": "markdown",
   "metadata": {},
   "source": [
    "## 1.9.3 ansible.cfgによる簡略化\n",
    "\n",
    "Ansibleの設定ファイルは以下の順序で探される。\n",
    "\n",
    "1. 環境変数のANSIBLE_CONFIG\n",
    "1. カレントディレクトリのansible.cfg\n",
    "1. HOMEのansible.cfg\n",
    "1. /etc/ansible/ansible.cfg"
   ]
  },
  {
   "cell_type": "code",
   "execution_count": 11,
   "metadata": {
    "collapsed": false
   },
   "outputs": [
    {
     "name": "stdout",
     "output_type": "stream",
     "text": [
      "[defaults]\r\n",
      "hostfile = hosts\r\n",
      "remote_user = vagrant\r\n",
      "private_key_file = .vagrant/machines/default/virtualbox/private_key\r\n",
      "host_keu_checking = False\r\n"
     ]
    }
   ],
   "source": [
    "cat ansible.cfg"
   ]
  },
  {
   "cell_type": "markdown",
   "metadata": {},
   "source": [
    "ansible.cfgでデフォルト値を設定すると以下のようにhostsファイルはシンプルになる。"
   ]
  },
  {
   "cell_type": "code",
   "execution_count": 12,
   "metadata": {
    "collapsed": false
   },
   "outputs": [
    {
     "name": "stdout",
     "output_type": "stream",
     "text": [
      "testserver ansible_ssh_host=127.0.0.1 ansible_ssh_port=2222\r\n"
     ]
    }
   ],
   "source": [
    "cat hosts"
   ]
  },
  {
   "cell_type": "code",
   "execution_count": 13,
   "metadata": {
    "collapsed": false
   },
   "outputs": [
    {
     "name": "stdout",
     "output_type": "stream",
     "text": [
      "\u001b[0;32mtestserver | SUCCESS => {\r\n",
      "    \"changed\": false, \r\n",
      "    \"ping\": \"pong\"\r\n",
      "}\u001b[0m\r\n"
     ]
    }
   ],
   "source": [
    "ansible testserver -m ping"
   ]
  },
  {
   "cell_type": "code",
   "execution_count": 15,
   "metadata": {
    "collapsed": false
   },
   "outputs": [
    {
     "name": "stdout",
     "output_type": "stream",
     "text": [
      "Using /Users/speg03/.ghq/github.com/speg03/notebooks/ansible_up_and_running/playbooks/ansible.cfg as config file\r\n",
      "\u001b[0;34mLoaded callback minimal of type stdout, v2.0\u001b[0m\r\n",
      "\u001b[0;34m<127.0.0.1> ESTABLISH SSH CONNECTION FOR USER: vagrant\u001b[0m\r\n",
      "\u001b[0;34m<127.0.0.1> SSH: EXEC ssh -C -vvv -o ControlMaster=auto -o ControlPersist=60s -o Port=2222 -o 'IdentityFile=\".vagrant/machines/default/virtualbox/private_key\"' -o KbdInteractiveAuthentication=no -o PreferredAuthentications=gssapi-with-mic,gssapi-keyex,hostbased,publickey -o PasswordAuthentication=no -o User=vagrant -o ConnectTimeout=10 -o ControlPath=/Users/speg03/.ansible/cp/ansible-ssh-%h-%p-%r 127.0.0.1 '/bin/sh -c '\"'\"'( umask 77 && mkdir -p \"` echo $HOME/.ansible/tmp/ansible-tmp-1469456479.25-64495621789304 `\" && echo ansible-tmp-1469456479.25-64495621789304=\"` echo $HOME/.ansible/tmp/ansible-tmp-1469456479.25-64495621789304 `\" ) && sleep 0'\"'\"''\u001b[0m\r\n",
      "\u001b[0;34m<127.0.0.1> PUT /var/folders/pb/60xc31qn0ql95fv8cfcmqsjc0000gn/T/tmpoLo9nC TO /home/vagrant/.ansible/tmp/ansible-tmp-1469456479.25-64495621789304/ping\u001b[0m\r\n",
      "\u001b[0;34m<127.0.0.1> SSH: EXEC sftp -b - -C -vvv -o ControlMaster=auto -o ControlPersist=60s -o Port=2222 -o 'IdentityFile=\".vagrant/machines/default/virtualbox/private_key\"' -o KbdInteractiveAuthentication=no -o PreferredAuthentications=gssapi-with-mic,gssapi-keyex,hostbased,publickey -o PasswordAuthentication=no -o User=vagrant -o ConnectTimeout=10 -o ControlPath=/Users/speg03/.ansible/cp/ansible-ssh-%h-%p-%r '[127.0.0.1]'\u001b[0m\r\n",
      "\u001b[0;34m<127.0.0.1> ESTABLISH SSH CONNECTION FOR USER: vagrant\u001b[0m\r\n",
      "\u001b[0;34m<127.0.0.1> SSH: EXEC ssh -C -vvv -o ControlMaster=auto -o ControlPersist=60s -o Port=2222 -o 'IdentityFile=\".vagrant/machines/default/virtualbox/private_key\"' -o KbdInteractiveAuthentication=no -o PreferredAuthentications=gssapi-with-mic,gssapi-keyex,hostbased,publickey -o PasswordAuthentication=no -o User=vagrant -o ConnectTimeout=10 -o ControlPath=/Users/speg03/.ansible/cp/ansible-ssh-%h-%p-%r -tt 127.0.0.1 '/bin/sh -c '\"'\"'LANG=en_US.UTF-8 LC_ALL=en_US.UTF-8 LC_MESSAGES=en_US.UTF-8 /usr/bin/python /home/vagrant/.ansible/tmp/ansible-tmp-1469456479.25-64495621789304/ping; rm -rf \"/home/vagrant/.ansible/tmp/ansible-tmp-1469456479.25-64495621789304/\" > /dev/null 2>&1 && sleep 0'\"'\"''\u001b[0m\r\n",
      "\u001b[0;32mtestserver | SUCCESS => {\r\n",
      "    \"changed\": false, \r\n",
      "    \"invocation\": {\r\n",
      "        \"module_args\": {\r\n",
      "            \"data\": null\r\n",
      "        }, \r\n",
      "        \"module_name\": \"ping\"\r\n",
      "    }, \r\n",
      "    \"ping\": \"pong\"\r\n",
      "}\u001b[0m\r\n"
     ]
    }
   ],
   "source": [
    "ansible testserver -m ping -vvvv"
   ]
  },
  {
   "cell_type": "markdown",
   "metadata": {},
   "source": [
    "commandモジュールを使って任意のコマンドを実行することができる。`-a`で実行するコマンドを渡してやる。"
   ]
  },
  {
   "cell_type": "code",
   "execution_count": 16,
   "metadata": {
    "collapsed": false
   },
   "outputs": [
    {
     "name": "stdout",
     "output_type": "stream",
     "text": [
      "\u001b[0;32mtestserver | SUCCESS | rc=0 >>\r\n",
      " 14:23:48 up 46 min,  1 user,  load average: 0.00, 0.01, 0.05\r\n",
      "\u001b[0m\r\n"
     ]
    }
   ],
   "source": [
    "ansible testserver -m command -a uptime"
   ]
  },
  {
   "cell_type": "markdown",
   "metadata": {},
   "source": [
    "commandモジュールは指定しなくてもよい?"
   ]
  },
  {
   "cell_type": "code",
   "execution_count": 17,
   "metadata": {
    "collapsed": false
   },
   "outputs": [
    {
     "name": "stdout",
     "output_type": "stream",
     "text": [
      "\u001b[0;32mtestserver | SUCCESS | rc=0 >>\r\n",
      " 14:23:58 up 47 min,  1 user,  load average: 0.00, 0.01, 0.05\r\n",
      "\u001b[0m\r\n"
     ]
    }
   ],
   "source": [
    "ansible testserver -a uptime"
   ]
  },
  {
   "cell_type": "code",
   "execution_count": 18,
   "metadata": {
    "collapsed": false
   },
   "outputs": [
    {
     "name": "stdout",
     "output_type": "stream",
     "text": [
      "\u001b[0;32mtestserver | SUCCESS | rc=0 >>\r\n",
      "[    9.504582] type=1400 audit(1469453816.451:12): apparmor=\"STATUS\" operation=\"profile_replace\" profile=\"unconfined\" name=\"/usr/lib/connman/scripts/dhclient-script\" pid=1002 comm=\"apparmor_parser\"\r\n",
      "[    9.504737] type=1400 audit(1469453816.451:13): apparmor=\"STATUS\" operation=\"profile_replace\" profile=\"unconfined\" name=\"/usr/lib/connman/scripts/dhclient-script\" pid=1002 comm=\"apparmor_parser\"\r\n",
      "[    9.782122] type=1400 audit(1469453816.723:14): apparmor=\"STATUS\" operation=\"profile_load\" profile=\"unconfined\" name=\"/usr/sbin/tcpdump\" pid=1004 comm=\"apparmor_parser\"\r\n",
      "[    9.832269] vboxvideo: Unknown symbol drm_open (err 0)\r\n",
      "[    9.832275] vboxvideo: Unknown symbol drm_poll (err 0)\r\n",
      "[    9.832278] vboxvideo: Unknown symbol drm_pci_init (err 0)\r\n",
      "[    9.832332] vboxvideo: Unknown symbol drm_ioctl (err 0)\r\n",
      "[    9.832335] vboxvideo: Unknown symbol drm_mmap (err 0)\r\n",
      "[    9.832338] vboxvideo: Unknown symbol drm_pci_exit (err 0)\r\n",
      "[    9.832341] vboxvideo: Unknown symbol drm_release (err 0)\r\n",
      "\u001b[0m\r\n"
     ]
    }
   ],
   "source": [
    "ansible testserver -a \"tail /var/log/dmesg\""
   ]
  },
  {
   "cell_type": "code",
   "execution_count": 19,
   "metadata": {
    "collapsed": false
   },
   "outputs": [
    {
     "name": "stdout",
     "output_type": "stream",
     "text": [
      "\u001b[0;31mtestserver | FAILED | rc=1 >>\r\n",
      "tail: cannot open ‘/var/log/syslog’ for reading: Permission denied\r\n",
      "\u001b[0m\r\n"
     ]
    }
   ],
   "source": [
    "ansible testserver -a \"tail /var/log/syslog\""
   ]
  },
  {
   "cell_type": "markdown",
   "metadata": {},
   "source": [
    "`-s`フラグを渡せば`sudo`で`root`権限になる。"
   ]
  },
  {
   "cell_type": "code",
   "execution_count": 20,
   "metadata": {
    "collapsed": false
   },
   "outputs": [
    {
     "name": "stdout",
     "output_type": "stream",
     "text": [
      "\u001b[0;32mtestserver | SUCCESS | rc=0 >>\r\n",
      "Jul 25 13:37:05 vagrant-ubuntu-trusty-64 ec2: 2048 ab:1e:93:bc:f4:6b:3b:42:58:26:9b:9f:bf:4f:18:9c  root@vagrant-ubuntu-trusty-64 (RSA)\r\n",
      "Jul 25 13:37:05 vagrant-ubuntu-trusty-64 ec2: -----END SSH HOST KEY FINGERPRINTS-----\r\n",
      "Jul 25 13:37:05 vagrant-ubuntu-trusty-64 ec2: #############################################################\r\n",
      "Jul 25 13:37:05 vagrant-ubuntu-trusty-64 kernel: [   16.348840] init: cloud-final main process (1364) terminated with status 2\r\n",
      "Jul 25 13:37:05 vagrant-ubuntu-trusty-64 puppet-agent[1266]: Could not request certificate: getaddrinfo: Name or service not known\r\n",
      "Jul 25 13:37:10 vagrant-ubuntu-trusty-64 ntpdate[1334]: adjust time server 91.189.91.157 offset -0.001083 sec\r\n",
      "Jul 25 14:00:40 vagrant-ubuntu-trusty-64 ansible-basic.py: Invoked with data=None\r\n",
      "Jul 25 14:01:31 vagrant-ubuntu-trusty-64 ansible-basic.py: Invoked with data=None\r\n",
      "Jul 25 14:17:01 vagrant-ubuntu-trusty-64 CRON[2406]: (root) CMD (   cd / && run-parts --report /etc/cron.hourly)\r\n",
      "Jul 25 14:21:19 vagrant-ubuntu-trusty-64 ansible-basic.py: Invoked with data=None\r\n",
      "\u001b[0m\r\n"
     ]
    }
   ],
   "source": [
    "ansible testserver -s -a \"tail /var/log/syslog\""
   ]
  },
  {
   "cell_type": "markdown",
   "metadata": {},
   "source": [
    "aptモジュールを使ってnginxをインストールする。"
   ]
  },
  {
   "cell_type": "code",
   "execution_count": 21,
   "metadata": {
    "collapsed": false
   },
   "outputs": [
    {
     "name": "stdout",
     "output_type": "stream",
     "text": [
      "\u001b[0;33mtestserver | SUCCESS => {\r\n",
      "    \"cache_update_time\": 0, \r\n",
      "    \"cache_updated\": false, \r\n",
      "    \"changed\": true, \r\n",
      "    \"stderr\": \"\", \r\n",
      "    \"stdout\": \"Reading package lists...\\nBuilding dependency tree...\\nReading state information...\\nThe following extra packages will be installed:\\n  libxslt1.1 nginx-common nginx-core\\nSuggested packages:\\n  fcgiwrap nginx-doc\\nThe following NEW packages will be installed:\\n  libxslt1.1 nginx nginx-common nginx-core\\n0 upgraded, 4 newly installed, 0 to remove and 0 not upgraded.\\nNeed to get 493 kB of archives.\\nAfter this operation, 1795 kB of additional disk space will be used.\\nGet:1 http://archive.ubuntu.com/ubuntu/ trusty/main libxslt1.1 amd64 1.1.28-2build1 [145 kB]\\nGet:2 http://archive.ubuntu.com/ubuntu/ trusty-updates/main nginx-common all 1.4.6-1ubuntu3.5 [18.1 kB]\\nGet:3 http://archive.ubuntu.com/ubuntu/ trusty-updates/main nginx-core amd64 1.4.6-1ubuntu3.5 [325 kB]\\nGet:4 http://archive.ubuntu.com/ubuntu/ trusty-updates/main nginx all 1.4.6-1ubuntu3.5 [5454 B]\\nFetched 493 kB in 3s (155 kB/s)\\nSelecting previously unselected package libxslt1.1:amd64.\\n(Reading database ... 62994 files and directories currently installed.)\\nPreparing to unpack .../libxslt1.1_1.1.28-2build1_amd64.deb ...\\nUnpacking libxslt1.1:amd64 (1.1.28-2build1) ...\\nSelecting previously unselected package nginx-common.\\nPreparing to unpack .../nginx-common_1.4.6-1ubuntu3.5_all.deb ...\\nUnpacking nginx-common (1.4.6-1ubuntu3.5) ...\\nSelecting previously unselected package nginx-core.\\nPreparing to unpack .../nginx-core_1.4.6-1ubuntu3.5_amd64.deb ...\\nUnpacking nginx-core (1.4.6-1ubuntu3.5) ...\\nSelecting previously unselected package nginx.\\nPreparing to unpack .../nginx_1.4.6-1ubuntu3.5_all.deb ...\\nUnpacking nginx (1.4.6-1ubuntu3.5) ...\\nProcessing triggers for ureadahead (0.100.0-16) ...\\nProcessing triggers for ufw (0.34~rc-0ubuntu2) ...\\nProcessing triggers for man-db (2.6.7.1-1ubuntu1) ...\\nSetting up libxslt1.1:amd64 (1.1.28-2build1) ...\\nSetting up nginx-common (1.4.6-1ubuntu3.5) ...\\nProcessing triggers for ureadahead (0.100.0-16) ...\\nProcessing triggers for ufw (0.34~rc-0ubuntu2) ...\\nSetting up nginx-core (1.4.6-1ubuntu3.5) ...\\nSetting up nginx (1.4.6-1ubuntu3.5) ...\\nProcessing triggers for libc-bin (2.19-0ubuntu6.9) ...\\n\", \r\n",
      "    \"stdout_lines\": [\r\n",
      "        \"Reading package lists...\", \r\n",
      "        \"Building dependency tree...\", \r\n",
      "        \"Reading state information...\", \r\n",
      "        \"The following extra packages will be installed:\", \r\n",
      "        \"  libxslt1.1 nginx-common nginx-core\", \r\n",
      "        \"Suggested packages:\", \r\n",
      "        \"  fcgiwrap nginx-doc\", \r\n",
      "        \"The following NEW packages will be installed:\", \r\n",
      "        \"  libxslt1.1 nginx nginx-common nginx-core\", \r\n",
      "        \"0 upgraded, 4 newly installed, 0 to remove and 0 not upgraded.\", \r\n",
      "        \"Need to get 493 kB of archives.\", \r\n",
      "        \"After this operation, 1795 kB of additional disk space will be used.\", \r\n",
      "        \"Get:1 http://archive.ubuntu.com/ubuntu/ trusty/main libxslt1.1 amd64 1.1.28-2build1 [145 kB]\", \r\n",
      "        \"Get:2 http://archive.ubuntu.com/ubuntu/ trusty-updates/main nginx-common all 1.4.6-1ubuntu3.5 [18.1 kB]\", \r\n",
      "        \"Get:3 http://archive.ubuntu.com/ubuntu/ trusty-updates/main nginx-core amd64 1.4.6-1ubuntu3.5 [325 kB]\", \r\n",
      "        \"Get:4 http://archive.ubuntu.com/ubuntu/ trusty-updates/main nginx all 1.4.6-1ubuntu3.5 [5454 B]\", \r\n",
      "        \"Fetched 493 kB in 3s (155 kB/s)\", \r\n",
      "        \"Selecting previously unselected package libxslt1.1:amd64.\", \r\n",
      "        \"(Reading database ... 62994 files and directories currently installed.)\", \r\n",
      "        \"Preparing to unpack .../libxslt1.1_1.1.28-2build1_amd64.deb ...\", \r\n",
      "        \"Unpacking libxslt1.1:amd64 (1.1.28-2build1) ...\", \r\n",
      "        \"Selecting previously unselected package nginx-common.\", \r\n",
      "        \"Preparing to unpack .../nginx-common_1.4.6-1ubuntu3.5_all.deb ...\", \r\n",
      "        \"Unpacking nginx-common (1.4.6-1ubuntu3.5) ...\", \r\n",
      "        \"Selecting previously unselected package nginx-core.\", \r\n",
      "        \"Preparing to unpack .../nginx-core_1.4.6-1ubuntu3.5_amd64.deb ...\", \r\n",
      "        \"Unpacking nginx-core (1.4.6-1ubuntu3.5) ...\", \r\n",
      "        \"Selecting previously unselected package nginx.\", \r\n",
      "        \"Preparing to unpack .../nginx_1.4.6-1ubuntu3.5_all.deb ...\", \r\n",
      "        \"Unpacking nginx (1.4.6-1ubuntu3.5) ...\", \r\n",
      "        \"Processing triggers for ureadahead (0.100.0-16) ...\", \r\n",
      "        \"Processing triggers for ufw (0.34~rc-0ubuntu2) ...\", \r\n",
      "        \"Processing triggers for man-db (2.6.7.1-1ubuntu1) ...\", \r\n",
      "        \"Setting up libxslt1.1:amd64 (1.1.28-2build1) ...\", \r\n",
      "        \"Setting up nginx-common (1.4.6-1ubuntu3.5) ...\", \r\n",
      "        \"Processing triggers for ureadahead (0.100.0-16) ...\", \r\n",
      "        \"Processing triggers for ufw (0.34~rc-0ubuntu2) ...\", \r\n",
      "        \"Setting up nginx-core (1.4.6-1ubuntu3.5) ...\", \r\n",
      "        \"Setting up nginx (1.4.6-1ubuntu3.5) ...\", \r\n",
      "        \"Processing triggers for libc-bin (2.19-0ubuntu6.9) ...\"\r\n",
      "    ]\r\n",
      "}\u001b[0m\r\n"
     ]
    }
   ],
   "source": [
    "ansible testserver -s -m apt -a name=nginx"
   ]
  },
  {
   "cell_type": "markdown",
   "metadata": {},
   "source": [
    "## 1.10 今後に向けて"
   ]
  }
 ],
 "metadata": {
  "kernelspec": {
   "display_name": "Bash",
   "language": "bash",
   "name": "bash"
  },
  "language_info": {
   "codemirror_mode": "shell",
   "file_extension": ".sh",
   "mimetype": "text/x-sh",
   "name": "bash"
  }
 },
 "nbformat": 4,
 "nbformat_minor": 0
}
